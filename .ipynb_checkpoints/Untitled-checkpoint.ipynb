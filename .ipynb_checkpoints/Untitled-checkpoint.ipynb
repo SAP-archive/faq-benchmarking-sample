{
 "cells": [
  {
   "cell_type": "code",
   "execution_count": 20,
   "metadata": {},
   "outputs": [
    {
     "name": "stdout",
     "output_type": "stream",
     "text": [
      "2021-04-29 13:59:47,170                  connect                   ERROR            Invalid URL 'abc': No schema supplied. Perhaps you meant http://abc?\n",
      "2021-04-29 13:59:47,178                  _load_csv                 INFO             34 question/answer pairs loaded from CSV successfully.\n",
      "2021-04-29 13:59:47,179                  generate_report           INFO             Calling the API endpoint to fetch answers from QnA bot...\n",
      "\n",
      "\n",
      "  0%|                                                    | 0/34 [00:00<?, ?it/s]\n",
      "2021-04-29 13:59:47,182                  predict                   ERROR            Invalid URL 'abc': No schema supplied. Perhaps you meant http://abc?\n",
      "Traceback (most recent call last):\n",
      "  File \"benchmark.py\", line 251, in <module>\n",
      "    b.generate_report()\n",
      "  File \"benchmark.py\", line 162, in generate_report\n",
      "    raw_predictions, top_3_sets = self.predict(self.questions)\n",
      "TypeError: cannot unpack non-iterable NoneType object\n"
     ]
    }
   ],
   "source": [
    "!python3 benchmark.py --csv_file=assets/data/gold_test_data.csv --auth_url=abc --client_id=abc --client_secret=abc --request_token=abc --language=en"
   ]
  },
  {
   "cell_type": "code",
   "execution_count": 24,
   "metadata": {},
   "outputs": [
    {
     "name": "stdout",
     "output_type": "stream",
     "text": [
      "2021-04-29 14:01:04,656                  connect                   ERROR            'access_token'           \n",
      "2021-04-29 14:01:04,669                  _load_csv                 INFO             34 question/answer pairs loaded from CSV successfully.\n",
      "2021-04-29 14:01:04,671                  generate_report           INFO             Calling the API endpoint to fetch answers from QnA bot...\n",
      "\n",
      "\n",
      "  0%|                                                    | 0/34 [00:00<?, ?it/s]\n",
      "2021-04-29 14:01:06,188                  predict                   ERROR            'access_token'           \n",
      "Traceback (most recent call last):\n",
      "  File \"benchmark.py\", line 251, in <module>\n",
      "    b.generate_report()\n",
      "  File \"benchmark.py\", line 162, in generate_report\n",
      "    raw_predictions, top_3_sets = self.predict(self.questions)\n",
      "TypeError: cannot unpack non-iterable NoneType object\n"
     ]
    }
   ],
   "source": [
    "!python3 benchmark.py --csv_file=assets/data/gold_test_data.csv --auth_url=https://sapcai-community.authentication.eu10.hana.ondemand.com/oauth/token --client_id=abc --client_secret=Pqa75eqV0NIvvcG81b+QFAOCJhg= --request_token=abc --language=en"
   ]
  }
 ],
 "metadata": {
  "kernelspec": {
   "display_name": "Python 3",
   "language": "python",
   "name": "python3"
  },
  "language_info": {
   "codemirror_mode": {
    "name": "ipython",
    "version": 3
   },
   "file_extension": ".py",
   "mimetype": "text/x-python",
   "name": "python",
   "nbconvert_exporter": "python",
   "pygments_lexer": "ipython3",
   "version": "3.8.5"
  }
 },
 "nbformat": 4,
 "nbformat_minor": 4
}
